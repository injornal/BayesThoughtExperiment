{
 "cells": [
  {
   "cell_type": "code",
   "execution_count": 1,
   "id": "bb65f600-d094-4b7f-ae61-ad5b07f2e639",
   "metadata": {},
   "outputs": [
    {
     "name": "stdout",
     "output_type": "stream",
     "text": [
      "Requirement already satisfied: spicy in /Library/Frameworks/Python.framework/Versions/3.12/lib/python3.12/site-packages (0.16.0)\n",
      "Requirement already satisfied: scipy in /Library/Frameworks/Python.framework/Versions/3.12/lib/python3.12/site-packages (from spicy) (1.13.1)\n",
      "Requirement already satisfied: numpy<2.3,>=1.22.4 in /Library/Frameworks/Python.framework/Versions/3.12/lib/python3.12/site-packages (from scipy->spicy) (1.26.4)\n",
      "Requirement already satisfied: matplotlib in /Library/Frameworks/Python.framework/Versions/3.12/lib/python3.12/site-packages (3.8.4)\n",
      "Requirement already satisfied: contourpy>=1.0.1 in /Library/Frameworks/Python.framework/Versions/3.12/lib/python3.12/site-packages (from matplotlib) (1.2.1)\n",
      "Requirement already satisfied: cycler>=0.10 in /Library/Frameworks/Python.framework/Versions/3.12/lib/python3.12/site-packages (from matplotlib) (0.12.1)\n",
      "Requirement already satisfied: fonttools>=4.22.0 in /Library/Frameworks/Python.framework/Versions/3.12/lib/python3.12/site-packages (from matplotlib) (4.51.0)\n",
      "Requirement already satisfied: kiwisolver>=1.3.1 in /Library/Frameworks/Python.framework/Versions/3.12/lib/python3.12/site-packages (from matplotlib) (1.4.5)\n",
      "Requirement already satisfied: numpy>=1.21 in /Library/Frameworks/Python.framework/Versions/3.12/lib/python3.12/site-packages (from matplotlib) (1.26.4)\n",
      "Requirement already satisfied: packaging>=20.0 in /Library/Frameworks/Python.framework/Versions/3.12/lib/python3.12/site-packages (from matplotlib) (24.0)\n",
      "Requirement already satisfied: pillow>=8 in /Library/Frameworks/Python.framework/Versions/3.12/lib/python3.12/site-packages (from matplotlib) (10.3.0)\n",
      "Requirement already satisfied: pyparsing>=2.3.1 in /Library/Frameworks/Python.framework/Versions/3.12/lib/python3.12/site-packages (from matplotlib) (3.1.2)\n",
      "Requirement already satisfied: python-dateutil>=2.7 in /Library/Frameworks/Python.framework/Versions/3.12/lib/python3.12/site-packages (from matplotlib) (2.9.0.post0)\n",
      "Requirement already satisfied: six>=1.5 in /Library/Frameworks/Python.framework/Versions/3.12/lib/python3.12/site-packages (from python-dateutil>=2.7->matplotlib) (1.16.0)\n",
      "Requirement already satisfied: numpy in /Library/Frameworks/Python.framework/Versions/3.12/lib/python3.12/site-packages (1.26.4)\n"
     ]
    }
   ],
   "source": [
    "!pip install spicy\n",
    "!pip install matplotlib\n",
    "!pip install numpy"
   ]
  },
  {
   "cell_type": "code",
   "execution_count": 2,
   "id": "a71a3d26-ebec-4698-a68c-d1e8195d13f9",
   "metadata": {},
   "outputs": [],
   "source": [
    "import matplotlib.pyplot as plt\n",
    "import numpy as np\n",
    "from scipy.interpolate import make_interp_spline"
   ]
  },
  {
   "cell_type": "code",
   "execution_count": 3,
   "id": "ceca100b-45bf-41e0-a5dd-f02885287906",
   "metadata": {},
   "outputs": [],
   "source": [
    "def total_b(pdf: list, b_right: bool):\n",
    "    if b_right:\n",
    "        total_prob = []\n",
    "        for i, prob in enumerate(pdf):\n",
    "            total_prob.append(prob * (len(pdf) - i - 1) / (len(pdf) - 1))\n",
    "        return sum(total_prob)\n",
    "    total_prob = []\n",
    "    for i, prob in enumerate(pdf):\n",
    "        total_prob.append(prob * i / (len(pdf) - 1))\n",
    "    return sum(total_prob)"
   ]
  },
  {
   "cell_type": "code",
   "execution_count": 4,
   "id": "d5b83fe6-b551-4bb9-b914-f5d6500f358f",
   "metadata": {},
   "outputs": [],
   "source": [
    "def b_given_a(a: int, num: int, b_right: bool):\n",
    "    return (num - a - 1) / (num - 1) if b_right else a / (num - 1)"
   ]
  },
  {
   "cell_type": "code",
   "execution_count": 5,
   "id": "8124b25d-3db0-4f2d-9da0-b4c6757e4caf",
   "metadata": {},
   "outputs": [],
   "source": [
    "def update(pdf: list, b_right: bool):\n",
    "    tb = total_b(pdf, b_right)\n",
    "    for i in range(len(pdf)):\n",
    "        pdf[i] = b_given_a(i, len(pdf), b_right) * pdf[i] / tb"
   ]
  },
  {
   "cell_type": "code",
   "execution_count": 6,
   "id": "8611e1ec-1b2a-4e12-b4fa-cc92585bdfb9",
   "metadata": {},
   "outputs": [],
   "source": [
    "n = 100\n",
    "coin_pos = 28\n",
    "pdf = [1/n for i in range(n)]"
   ]
  },
  {
   "cell_type": "code",
   "execution_count": 7,
   "id": "588f080b-0c71-487f-a7c2-b1a0027a65bd",
   "metadata": {},
   "outputs": [],
   "source": [
    "import random\n",
    "for i in range(100):\n",
    "    update(pdf, random.randint(0, n - 1) > coin_pos)"
   ]
  },
  {
   "cell_type": "code",
   "execution_count": 8,
   "id": "80bfd5be-1b3a-46a9-8f44-1b8e6b9a10e4",
   "metadata": {},
   "outputs": [
    {
     "data": {
      "image/png": "[encoded data removed]",
      "text/plain": [
       "<Figure size 640x480 with 1 Axes>"
      ]
     },
     "metadata": {},
     "output_type": "display_data"
    }
   ],
   "source": [
    "x = [i for i in range(len(pdf))]\n",
    " \n",
    "# Plotting the Graph\n",
    "plt.plot(x, pdf)\n",
    "plt.fill_between(x, pdf)\n",
    "plt.axvline(29, color=(1.0, 0, 0))\n",
    "plt.xlabel(\"position\")\n",
    "plt.ylabel(\"probability\")\n",
    "plt.show()"
   ]
  }
 ],
 "metadata": {
  "kernelspec": {
   "display_name": "Python 3 (ipykernel)",
   "language": "python",
   "name": "python3"
  },
  "language_info": {
   "codemirror_mode": {
    "name": "ipython",
    "version": 3
   },
   "file_extension": ".py",
   "mimetype": "text/x-python",
   "name": "python",
   "nbconvert_exporter": "python",
   "pygments_lexer": "ipython3",
   "version": "3.12.0"
  }
 },
 "nbformat": 4,
 "nbformat_minor": 5
}
